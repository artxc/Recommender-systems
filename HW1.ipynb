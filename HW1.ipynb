{
 "cells": [
  {
   "cell_type": "markdown",
   "metadata": {},
   "source": [
    "### Матричные факторизации"
   ]
  },
  {
   "cell_type": "markdown",
   "metadata": {},
   "source": [
    "В данной работе вам предстоит познакомиться с практической стороной матричных разложений.\n",
    "Работа поделена на 4 задания:\n",
    "1. Вам необходимо реализовать SVD разложения используя SGD на explicit данных\n",
    "2. Вам необходимо реализовать матричное разложения используя ALS на implicit данных\n",
    "3. Вам необходимо реализовать матричное разложения используя BPR(pair-wise loss) на implicit данных\n",
    "4. Вам необходимо реализовать матричное разложения используя WARP(list-wise loss) на implicit данных\n",
    "\n",
    "Мягкий дедлайн 28 Сентября (пишутся замечания, выставляется оценка, есть возможность исправить до жесткого дедлайна)\n",
    "\n",
    "Жесткий дедлайн 5 Октября (Итоговая проверка)"
   ]
  },
  {
   "cell_type": "code",
   "execution_count": 1,
   "metadata": {},
   "outputs": [],
   "source": [
    "import implicit\n",
    "import pandas as pd\n",
    "import numpy as np\n",
    "import scipy.sparse as sp\n",
    "\n",
    "from lightfm.datasets import fetch_movielens"
   ]
  },
  {
   "cell_type": "markdown",
   "metadata": {},
   "source": [
    "В данной работе мы будем работать с explicit датасетом movieLens, в котором представленны пары user_id movie_id и rating выставленный пользователем фильму\n",
    "\n",
    "Скачать датасет можно по ссылке https://grouplens.org/datasets/movielens/1m/"
   ]
  },
  {
   "cell_type": "code",
   "execution_count": 2,
   "metadata": {},
   "outputs": [],
   "source": [
    "ratings = pd.read_csv('./ml-1m/ratings.dat', delimiter='::', header=None, \n",
    "        names=['user_id', 'movie_id', 'rating', 'timestamp'], \n",
    "        usecols=['user_id', 'movie_id', 'rating'], engine='python')"
   ]
  },
  {
   "cell_type": "code",
   "execution_count": 3,
   "metadata": {},
   "outputs": [],
   "source": [
    "movie_info = pd.read_csv('./ml-1m/movies.dat', delimiter='::', header=None, \n",
    "        names=['movie_id', 'name', 'category'], engine='python')"
   ]
  },
  {
   "cell_type": "markdown",
   "metadata": {},
   "source": [
    "Explicit данные"
   ]
  },
  {
   "cell_type": "code",
   "execution_count": 4,
   "metadata": {},
   "outputs": [
    {
     "data": {
      "text/html": [
       "<div>\n",
       "<style scoped>\n",
       "    .dataframe tbody tr th:only-of-type {\n",
       "        vertical-align: middle;\n",
       "    }\n",
       "\n",
       "    .dataframe tbody tr th {\n",
       "        vertical-align: top;\n",
       "    }\n",
       "\n",
       "    .dataframe thead th {\n",
       "        text-align: right;\n",
       "    }\n",
       "</style>\n",
       "<table border=\"1\" class=\"dataframe\">\n",
       "  <thead>\n",
       "    <tr style=\"text-align: right;\">\n",
       "      <th></th>\n",
       "      <th>user_id</th>\n",
       "      <th>movie_id</th>\n",
       "      <th>rating</th>\n",
       "    </tr>\n",
       "  </thead>\n",
       "  <tbody>\n",
       "    <tr>\n",
       "      <th>0</th>\n",
       "      <td>1</td>\n",
       "      <td>1193</td>\n",
       "      <td>5</td>\n",
       "    </tr>\n",
       "    <tr>\n",
       "      <th>1</th>\n",
       "      <td>1</td>\n",
       "      <td>661</td>\n",
       "      <td>3</td>\n",
       "    </tr>\n",
       "    <tr>\n",
       "      <th>2</th>\n",
       "      <td>1</td>\n",
       "      <td>914</td>\n",
       "      <td>3</td>\n",
       "    </tr>\n",
       "    <tr>\n",
       "      <th>3</th>\n",
       "      <td>1</td>\n",
       "      <td>3408</td>\n",
       "      <td>4</td>\n",
       "    </tr>\n",
       "    <tr>\n",
       "      <th>4</th>\n",
       "      <td>1</td>\n",
       "      <td>2355</td>\n",
       "      <td>5</td>\n",
       "    </tr>\n",
       "    <tr>\n",
       "      <th>5</th>\n",
       "      <td>1</td>\n",
       "      <td>1197</td>\n",
       "      <td>3</td>\n",
       "    </tr>\n",
       "    <tr>\n",
       "      <th>6</th>\n",
       "      <td>1</td>\n",
       "      <td>1287</td>\n",
       "      <td>5</td>\n",
       "    </tr>\n",
       "    <tr>\n",
       "      <th>7</th>\n",
       "      <td>1</td>\n",
       "      <td>2804</td>\n",
       "      <td>5</td>\n",
       "    </tr>\n",
       "    <tr>\n",
       "      <th>8</th>\n",
       "      <td>1</td>\n",
       "      <td>594</td>\n",
       "      <td>4</td>\n",
       "    </tr>\n",
       "    <tr>\n",
       "      <th>9</th>\n",
       "      <td>1</td>\n",
       "      <td>919</td>\n",
       "      <td>4</td>\n",
       "    </tr>\n",
       "  </tbody>\n",
       "</table>\n",
       "</div>"
      ],
      "text/plain": [
       "   user_id  movie_id  rating\n",
       "0        1      1193       5\n",
       "1        1       661       3\n",
       "2        1       914       3\n",
       "3        1      3408       4\n",
       "4        1      2355       5\n",
       "5        1      1197       3\n",
       "6        1      1287       5\n",
       "7        1      2804       5\n",
       "8        1       594       4\n",
       "9        1       919       4"
      ]
     },
     "execution_count": 4,
     "metadata": {},
     "output_type": "execute_result"
    }
   ],
   "source": [
    "ratings.head(10)"
   ]
  },
  {
   "cell_type": "markdown",
   "metadata": {},
   "source": [
    "Для того, чтобы преобразовать текущий датасет в Implicit, давайте считать что позитивная оценка это оценка >=4"
   ]
  },
  {
   "cell_type": "code",
   "execution_count": 5,
   "metadata": {},
   "outputs": [],
   "source": [
    "implicit_ratings = ratings.loc[(ratings['rating'] >= 4)]"
   ]
  },
  {
   "cell_type": "code",
   "execution_count": 6,
   "metadata": {},
   "outputs": [
    {
     "data": {
      "text/html": [
       "<div>\n",
       "<style scoped>\n",
       "    .dataframe tbody tr th:only-of-type {\n",
       "        vertical-align: middle;\n",
       "    }\n",
       "\n",
       "    .dataframe tbody tr th {\n",
       "        vertical-align: top;\n",
       "    }\n",
       "\n",
       "    .dataframe thead th {\n",
       "        text-align: right;\n",
       "    }\n",
       "</style>\n",
       "<table border=\"1\" class=\"dataframe\">\n",
       "  <thead>\n",
       "    <tr style=\"text-align: right;\">\n",
       "      <th></th>\n",
       "      <th>user_id</th>\n",
       "      <th>movie_id</th>\n",
       "      <th>rating</th>\n",
       "    </tr>\n",
       "  </thead>\n",
       "  <tbody>\n",
       "    <tr>\n",
       "      <th>0</th>\n",
       "      <td>1</td>\n",
       "      <td>1193</td>\n",
       "      <td>5</td>\n",
       "    </tr>\n",
       "    <tr>\n",
       "      <th>3</th>\n",
       "      <td>1</td>\n",
       "      <td>3408</td>\n",
       "      <td>4</td>\n",
       "    </tr>\n",
       "    <tr>\n",
       "      <th>4</th>\n",
       "      <td>1</td>\n",
       "      <td>2355</td>\n",
       "      <td>5</td>\n",
       "    </tr>\n",
       "    <tr>\n",
       "      <th>6</th>\n",
       "      <td>1</td>\n",
       "      <td>1287</td>\n",
       "      <td>5</td>\n",
       "    </tr>\n",
       "    <tr>\n",
       "      <th>7</th>\n",
       "      <td>1</td>\n",
       "      <td>2804</td>\n",
       "      <td>5</td>\n",
       "    </tr>\n",
       "    <tr>\n",
       "      <th>8</th>\n",
       "      <td>1</td>\n",
       "      <td>594</td>\n",
       "      <td>4</td>\n",
       "    </tr>\n",
       "    <tr>\n",
       "      <th>9</th>\n",
       "      <td>1</td>\n",
       "      <td>919</td>\n",
       "      <td>4</td>\n",
       "    </tr>\n",
       "    <tr>\n",
       "      <th>10</th>\n",
       "      <td>1</td>\n",
       "      <td>595</td>\n",
       "      <td>5</td>\n",
       "    </tr>\n",
       "    <tr>\n",
       "      <th>11</th>\n",
       "      <td>1</td>\n",
       "      <td>938</td>\n",
       "      <td>4</td>\n",
       "    </tr>\n",
       "    <tr>\n",
       "      <th>12</th>\n",
       "      <td>1</td>\n",
       "      <td>2398</td>\n",
       "      <td>4</td>\n",
       "    </tr>\n",
       "  </tbody>\n",
       "</table>\n",
       "</div>"
      ],
      "text/plain": [
       "    user_id  movie_id  rating\n",
       "0         1      1193       5\n",
       "3         1      3408       4\n",
       "4         1      2355       5\n",
       "6         1      1287       5\n",
       "7         1      2804       5\n",
       "8         1       594       4\n",
       "9         1       919       4\n",
       "10        1       595       5\n",
       "11        1       938       4\n",
       "12        1      2398       4"
      ]
     },
     "execution_count": 6,
     "metadata": {},
     "output_type": "execute_result"
    }
   ],
   "source": [
    "implicit_ratings.head(10)"
   ]
  },
  {
   "cell_type": "markdown",
   "metadata": {},
   "source": [
    "Удобнее работать с sparse матричками, давайте преобразуем DataFrame в CSR матрицы"
   ]
  },
  {
   "cell_type": "code",
   "execution_count": 7,
   "metadata": {},
   "outputs": [],
   "source": [
    "users = implicit_ratings[\"user_id\"]\n",
    "movies = implicit_ratings[\"movie_id\"]\n",
    "user_item = sp.coo_matrix((np.ones_like(users), (users, movies)))\n",
    "user_item_t_csr = user_item.T.tocsr()\n",
    "user_item_csr = user_item.tocsr()"
   ]
  },
  {
   "cell_type": "markdown",
   "metadata": {},
   "source": [
    "В качестве примера воспользуемся ALS разложением из библиотеки implicit\n",
    "\n",
    "Зададим размерность латентного пространства равным 64, это же определяет размер user/item эмбедингов"
   ]
  },
  {
   "cell_type": "code",
   "execution_count": 8,
   "metadata": {},
   "outputs": [
    {
     "name": "stderr",
     "output_type": "stream",
     "text": [
      "WARNING:root:OpenBLAS detected. Its highly recommend to set the environment variable 'export OPENBLAS_NUM_THREADS=1' to disable its internal multithreading\n"
     ]
    }
   ],
   "source": [
    "model = implicit.als.AlternatingLeastSquares(factors=64, iterations=100, calculate_training_loss=True)"
   ]
  },
  {
   "cell_type": "markdown",
   "metadata": {},
   "source": [
    "В качестве loss здесь всеми любимый RMSE"
   ]
  },
  {
   "cell_type": "code",
   "execution_count": 9,
   "metadata": {},
   "outputs": [
    {
     "data": {
      "application/vnd.jupyter.widget-view+json": {
       "model_id": "ced7b8d4f2954753bbe42acca83c7f82",
       "version_major": 2,
       "version_minor": 0
      },
      "text/plain": [
       "HBox(children=(HTML(value=''), FloatProgress(value=0.0), HTML(value='')))"
      ]
     },
     "metadata": {},
     "output_type": "display_data"
    },
    {
     "name": "stdout",
     "output_type": "stream",
     "text": [
      "\n"
     ]
    }
   ],
   "source": [
    "model.fit(user_item_t_csr)"
   ]
  },
  {
   "cell_type": "markdown",
   "metadata": {},
   "source": [
    "Построим похожие фильмы по 1 movie_id = Истории игрушек"
   ]
  },
  {
   "cell_type": "code",
   "execution_count": 10,
   "metadata": {},
   "outputs": [
    {
     "data": {
      "text/html": [
       "<div>\n",
       "<style scoped>\n",
       "    .dataframe tbody tr th:only-of-type {\n",
       "        vertical-align: middle;\n",
       "    }\n",
       "\n",
       "    .dataframe tbody tr th {\n",
       "        vertical-align: top;\n",
       "    }\n",
       "\n",
       "    .dataframe thead th {\n",
       "        text-align: right;\n",
       "    }\n",
       "</style>\n",
       "<table border=\"1\" class=\"dataframe\">\n",
       "  <thead>\n",
       "    <tr style=\"text-align: right;\">\n",
       "      <th></th>\n",
       "      <th>movie_id</th>\n",
       "      <th>name</th>\n",
       "      <th>category</th>\n",
       "    </tr>\n",
       "  </thead>\n",
       "  <tbody>\n",
       "    <tr>\n",
       "      <th>0</th>\n",
       "      <td>1</td>\n",
       "      <td>Toy Story (1995)</td>\n",
       "      <td>Animation|Children's|Comedy</td>\n",
       "    </tr>\n",
       "    <tr>\n",
       "      <th>1</th>\n",
       "      <td>2</td>\n",
       "      <td>Jumanji (1995)</td>\n",
       "      <td>Adventure|Children's|Fantasy</td>\n",
       "    </tr>\n",
       "    <tr>\n",
       "      <th>2</th>\n",
       "      <td>3</td>\n",
       "      <td>Grumpier Old Men (1995)</td>\n",
       "      <td>Comedy|Romance</td>\n",
       "    </tr>\n",
       "    <tr>\n",
       "      <th>3</th>\n",
       "      <td>4</td>\n",
       "      <td>Waiting to Exhale (1995)</td>\n",
       "      <td>Comedy|Drama</td>\n",
       "    </tr>\n",
       "    <tr>\n",
       "      <th>4</th>\n",
       "      <td>5</td>\n",
       "      <td>Father of the Bride Part II (1995)</td>\n",
       "      <td>Comedy</td>\n",
       "    </tr>\n",
       "  </tbody>\n",
       "</table>\n",
       "</div>"
      ],
      "text/plain": [
       "   movie_id                                name                      category\n",
       "0         1                    Toy Story (1995)   Animation|Children's|Comedy\n",
       "1         2                      Jumanji (1995)  Adventure|Children's|Fantasy\n",
       "2         3             Grumpier Old Men (1995)                Comedy|Romance\n",
       "3         4            Waiting to Exhale (1995)                  Comedy|Drama\n",
       "4         5  Father of the Bride Part II (1995)                        Comedy"
      ]
     },
     "execution_count": 10,
     "metadata": {},
     "output_type": "execute_result"
    }
   ],
   "source": [
    "movie_info.head(5)"
   ]
  },
  {
   "cell_type": "code",
   "execution_count": 11,
   "metadata": {},
   "outputs": [],
   "source": [
    "get_similars = lambda item_id, model : [movie_info[movie_info[\"movie_id\"] == x[0]][\"name\"].to_string() \n",
    "                                        for x in model.similar_items(item_id)]"
   ]
  },
  {
   "cell_type": "markdown",
   "metadata": {},
   "source": [
    "Как мы видим, симилары действительно оказались симиларами.\n",
    "\n",
    "Качество симиларов часто является хорошим способом проверить качество алгоритмов.\n",
    "\n",
    "P.S. Если хочется поглубже разобраться в том как разные алгоритмы формируют разные латентные пространства, рекомендую загружать полученные вектора в tensorBoard и смотреть на сформированное пространство"
   ]
  },
  {
   "cell_type": "code",
   "execution_count": 12,
   "metadata": {},
   "outputs": [
    {
     "data": {
      "text/plain": [
       "['0    Toy Story (1995)',\n",
       " '3045    Toy Story 2 (1999)',\n",
       " \"2286    Bug's Life, A (1998)\",\n",
       " '33    Babe (1995)',\n",
       " '584    Aladdin (1992)',\n",
       " '2315    Babe: Pig in the City (1998)',\n",
       " '360    Lion King, The (1994)',\n",
       " '1526    Hercules (1997)',\n",
       " '2692    Iron Giant, The (1999)',\n",
       " '2252    Pleasantville (1998)']"
      ]
     },
     "execution_count": 12,
     "metadata": {},
     "output_type": "execute_result"
    }
   ],
   "source": [
    "get_similars(1, model)"
   ]
  },
  {
   "cell_type": "markdown",
   "metadata": {},
   "source": [
    "Давайте теперь построим рекомендации для юзеров\n",
    "\n",
    "Как мы видим юзеру нравится фантастика, значит и в рекомендациях ожидаем увидеть фантастику"
   ]
  },
  {
   "cell_type": "code",
   "execution_count": 13,
   "metadata": {},
   "outputs": [],
   "source": [
    "get_user_history = lambda user_id, implicit_ratings : [movie_info[movie_info[\"movie_id\"] == x][\"name\"].to_string() \n",
    "                                            for x in implicit_ratings[implicit_ratings[\"user_id\"] == user_id][\"movie_id\"]]"
   ]
  },
  {
   "cell_type": "code",
   "execution_count": 14,
   "metadata": {},
   "outputs": [
    {
     "data": {
      "text/plain": [
       "['3399    Hustler, The (1961)',\n",
       " '2882    Fistful of Dollars, A (1964)',\n",
       " '1196    Alien (1979)',\n",
       " '1023    Die Hard (1988)',\n",
       " '257    Star Wars: Episode IV - A New Hope (1977)',\n",
       " '1959    Saving Private Ryan (1998)',\n",
       " '476    Jurassic Park (1993)',\n",
       " '1180    Raiders of the Lost Ark (1981)',\n",
       " '1885    Rocky (1976)',\n",
       " '1081    E.T. the Extra-Terrestrial (1982)',\n",
       " '3349    Thelma & Louise (1991)',\n",
       " '3633    Mad Max (1979)',\n",
       " '2297    King Kong (1933)',\n",
       " '1366    Jaws (1975)',\n",
       " '1183    Good, The Bad and The Ugly, The (1966)',\n",
       " '2623    Run Lola Run (Lola rennt) (1998)',\n",
       " '2878    Goldfinger (1964)',\n",
       " '1220    Terminator, The (1984)']"
      ]
     },
     "execution_count": 14,
     "metadata": {},
     "output_type": "execute_result"
    }
   ],
   "source": [
    "get_user_history(4, implicit_ratings)"
   ]
  },
  {
   "cell_type": "markdown",
   "metadata": {},
   "source": [
    "Получилось! \n",
    "\n",
    "Мы действительно порекомендовали пользователю фантастику и боевики, более того встречаются продолжения тех фильмов, которые он высоко оценил"
   ]
  },
  {
   "cell_type": "code",
   "execution_count": 15,
   "metadata": {},
   "outputs": [],
   "source": [
    "get_recommendations = lambda user_id, model : [movie_info[movie_info[\"movie_id\"] == x[0]][\"name\"].to_string() \n",
    "                                               for x in model.recommend(user_id, user_item_csr)]"
   ]
  },
  {
   "cell_type": "code",
   "execution_count": 16,
   "metadata": {},
   "outputs": [
    {
     "data": {
      "text/plain": [
       "['585    Terminator 2: Judgment Day (1991)',\n",
       " '1271    Indiana Jones and the Last Crusade (1989)',\n",
       " '1182    Aliens (1986)',\n",
       " '1284    Butch Cassidy and the Sundance Kid (1969)',\n",
       " '2502    Matrix, The (1999)',\n",
       " '1178    Star Wars: Episode V - The Empire Strikes Back...',\n",
       " '1179    Princess Bride, The (1987)',\n",
       " '3402    Close Encounters of the Third Kind (1977)',\n",
       " '847    Godfather, The (1972)',\n",
       " '1892    Rain Man (1988)']"
      ]
     },
     "execution_count": 16,
     "metadata": {},
     "output_type": "execute_result"
    }
   ],
   "source": [
    "get_recommendations(4, model)"
   ]
  },
  {
   "cell_type": "markdown",
   "metadata": {},
   "source": [
    "Теперь ваша очередь реализовать самые популярные алгоритмы матричных разложений\n",
    "\n",
    "Что будет оцениваться:\n",
    "1. Корректность алгоритма\n",
    "2. Качество получившихся симиларов\n",
    "3. Качество итоговых рекомендаций для юзера"
   ]
  },
  {
   "cell_type": "code",
   "execution_count": 17,
   "metadata": {},
   "outputs": [],
   "source": [
    "from tqdm.notebook import tqdm\n",
    "from sklearn.metrics.pairwise import cosine_similarity"
   ]
  },
  {
   "cell_type": "markdown",
   "metadata": {},
   "source": [
    "### Задание 1. Не использую готовые решения, реализовать SVD разложение используя SGD на explicit данных"
   ]
  },
  {
   "cell_type": "code",
   "execution_count": 18,
   "metadata": {},
   "outputs": [],
   "source": [
    "class SVD:\n",
    "\n",
    "    def __init__(self, max_iter, n_components, lr, decay, eval_each):\n",
    "        self.max_iter = max_iter\n",
    "        self.n_components = n_components\n",
    "        self.lr = lr\n",
    "        self.decay = decay\n",
    "        self.eval_each = eval_each\n",
    "\n",
    "    def fit(self, ratings: pd.DataFrame):\n",
    "        emb2user = np.unique(ratings.user_id)\n",
    "        emb2movie = np.unique(ratings.movie_id)\n",
    "        user2emb = {user: emb for emb, user in enumerate(emb2user)}\n",
    "        movie2emb = {movie: emb for emb, movie in enumerate(emb2movie)}\n",
    "\n",
    "        ratings_np = ratings.rating.to_numpy()\n",
    "        user_ids_np = ratings.user_id.map(user2emb.get).to_numpy()\n",
    "        movie_ids_np = ratings.movie_id.map(movie2emb.get).to_numpy()\n",
    "\n",
    "        W = np.random.uniform(0.0, 1.0 / np.sqrt(self.n_components), (len(emb2user), self.n_components))\n",
    "        H = np.random.uniform(0.0, 1.0 / np.sqrt(self.n_components), (self.n_components, len(emb2movie)))\n",
    "        BW = np.zeros(len(emb2user))\n",
    "        BH = np.zeros(len(emb2movie))\n",
    "        mu = ratings.rating.mean()\n",
    "\n",
    "        for k in tqdm(range(1, self.max_iter + 1)):\n",
    "            user_id, movie_id, rating = ratings.iloc[np.random.randint(0, len(ratings))]\n",
    "            i, j = user2emb[user_id], movie2emb[movie_id]\n",
    "\n",
    "            error = W[i] @ H[:, j] + BW[i] + BH[j] + mu - rating\n",
    "\n",
    "            Wi_update = self.lr * (error * H[:, j] + self.decay * W[i])\n",
    "            H[:, j] -= self.lr * (error * W[i] + self.decay * H[:, j])\n",
    "            W[i] -= Wi_update\n",
    "\n",
    "            BW[i] -= self.lr * (error + self.decay * BW[i])\n",
    "            BH[j] -= self.lr * (error + self.decay * BH[j])\n",
    "\n",
    "            if k % self.eval_each == 0:\n",
    "                predictions = W @ H + BW.reshape(-1, 1) + BH + mu\n",
    "                rmse = np.linalg.norm(predictions[user_ids_np, movie_ids_np] - ratings_np) / np.sqrt(len(ratings))\n",
    "                print(f'Iter: {k:08}, RMSE: {rmse:.3f}')\n",
    "\n",
    "        self.W, self.H, self.BW, self.BH, self.mu = W, H, BW, BH, mu\n",
    "        self.movie2emb, self.emb2movie, self.user2emb = movie2emb, emb2movie, user2emb\n",
    "\n",
    "    def similar_items(self, movie_id, n=10):\n",
    "        j = self.movie2emb[movie_id]\n",
    "        distances = cosine_similarity(self.H[:, j].reshape(1, -1), self.H.T)\n",
    "        most_similar = distances[0].argsort()[-n:][::-1]\n",
    "        return [(self.emb2movie[emb],) for emb in most_similar]\n",
    "\n",
    "    def recommend(self, user_id, _, n=20):\n",
    "        i = self.user2emb[user_id]\n",
    "        ratings = self.W[i] @ self.H + self.BW[i] + self.BH + self.mu\n",
    "        recommended_embs = ratings.argsort()\n",
    "        return [(self.emb2movie[emb],) for emb in recommended_embs \n",
    "                if self.emb2movie[emb] not in \n",
    "                implicit_ratings[implicit_ratings.user_id == user_id].movie_id.to_numpy()][-n:][::-1]"
   ]
  },
  {
   "cell_type": "code",
   "execution_count": 19,
   "metadata": {
    "scrolled": false
   },
   "outputs": [
    {
     "data": {
      "application/vnd.jupyter.widget-view+json": {
       "model_id": "ae9f31355082452aafa32eadaf30b36d",
       "version_major": 2,
       "version_minor": 0
      },
      "text/plain": [
       "HBox(children=(HTML(value=''), FloatProgress(value=0.0, max=12000000.0), HTML(value='')))"
      ]
     },
     "metadata": {},
     "output_type": "display_data"
    },
    {
     "name": "stdout",
     "output_type": "stream",
     "text": [
      "Iter: 00500000, RMSE: 0.931\n",
      "Iter: 01000000, RMSE: 0.913\n",
      "Iter: 01500000, RMSE: 0.905\n",
      "Iter: 02000000, RMSE: 0.899\n",
      "Iter: 02500000, RMSE: 0.894\n",
      "Iter: 03000000, RMSE: 0.887\n",
      "Iter: 03500000, RMSE: 0.880\n",
      "Iter: 04000000, RMSE: 0.871\n",
      "Iter: 04500000, RMSE: 0.861\n",
      "Iter: 05000000, RMSE: 0.849\n",
      "Iter: 05500000, RMSE: 0.836\n",
      "Iter: 06000000, RMSE: 0.822\n",
      "Iter: 06500000, RMSE: 0.807\n",
      "Iter: 07000000, RMSE: 0.791\n",
      "Iter: 07500000, RMSE: 0.774\n",
      "Iter: 08000000, RMSE: 0.756\n",
      "Iter: 08500000, RMSE: 0.737\n",
      "Iter: 09000000, RMSE: 0.718\n",
      "Iter: 09500000, RMSE: 0.699\n",
      "Iter: 10000000, RMSE: 0.679\n",
      "Iter: 10500000, RMSE: 0.659\n",
      "Iter: 11000000, RMSE: 0.639\n",
      "Iter: 11500000, RMSE: 0.619\n",
      "Iter: 12000000, RMSE: 0.600\n",
      "\n",
      "CPU times: user 33min 1s, sys: 58.5 s, total: 33min 59s\n",
      "Wall time: 32min 27s\n"
     ]
    }
   ],
   "source": [
    "%%time\n",
    "\n",
    "svd = SVD(max_iter=12000000, n_components=300, lr=1e-2, decay=1e-2, eval_each=500000)\n",
    "\n",
    "svd.fit(ratings)"
   ]
  },
  {
   "cell_type": "code",
   "execution_count": 20,
   "metadata": {},
   "outputs": [
    {
     "data": {
      "text/html": [
       "<div>\n",
       "<style scoped>\n",
       "    .dataframe tbody tr th:only-of-type {\n",
       "        vertical-align: middle;\n",
       "    }\n",
       "\n",
       "    .dataframe tbody tr th {\n",
       "        vertical-align: top;\n",
       "    }\n",
       "\n",
       "    .dataframe thead th {\n",
       "        text-align: right;\n",
       "    }\n",
       "</style>\n",
       "<table border=\"1\" class=\"dataframe\">\n",
       "  <thead>\n",
       "    <tr style=\"text-align: right;\">\n",
       "      <th></th>\n",
       "      <th>movie_id</th>\n",
       "      <th>name</th>\n",
       "      <th>category</th>\n",
       "    </tr>\n",
       "  </thead>\n",
       "  <tbody>\n",
       "    <tr>\n",
       "      <th>0</th>\n",
       "      <td>1</td>\n",
       "      <td>Toy Story (1995)</td>\n",
       "      <td>Animation|Children's|Comedy</td>\n",
       "    </tr>\n",
       "  </tbody>\n",
       "</table>\n",
       "</div>"
      ],
      "text/plain": [
       "   movie_id              name                     category\n",
       "0         1  Toy Story (1995)  Animation|Children's|Comedy"
      ]
     },
     "execution_count": 20,
     "metadata": {},
     "output_type": "execute_result"
    }
   ],
   "source": [
    "movie_info[movie_info.movie_id == 1]"
   ]
  },
  {
   "cell_type": "code",
   "execution_count": 21,
   "metadata": {
    "scrolled": true
   },
   "outputs": [
    {
     "data": {
      "text/plain": [
       "['0    Toy Story (1995)',\n",
       " '3045    Toy Story 2 (1999)',\n",
       " \"2286    Bug's Life, A (1998)\",\n",
       " '584    Aladdin (1992)',\n",
       " '1838    Mulan (1998)',\n",
       " '591    Beauty and the Beast (1991)',\n",
       " '3327    Muppet Movie, The (1979)',\n",
       " '2618    Tarzan (1999)',\n",
       " '2020    Rescuers Down Under, The (1990)',\n",
       " '1636    Truman Show, The (1998)']"
      ]
     },
     "execution_count": 21,
     "metadata": {},
     "output_type": "execute_result"
    }
   ],
   "source": [
    "get_similars(1, svd)"
   ]
  },
  {
   "cell_type": "code",
   "execution_count": 22,
   "metadata": {
    "scrolled": false
   },
   "outputs": [
    {
     "data": {
      "text/plain": [
       "['3399    Hustler, The (1961)',\n",
       " '2882    Fistful of Dollars, A (1964)',\n",
       " '1196    Alien (1979)',\n",
       " '1023    Die Hard (1988)',\n",
       " '257    Star Wars: Episode IV - A New Hope (1977)',\n",
       " '1959    Saving Private Ryan (1998)',\n",
       " '476    Jurassic Park (1993)',\n",
       " '1180    Raiders of the Lost Ark (1981)',\n",
       " '1885    Rocky (1976)',\n",
       " '1081    E.T. the Extra-Terrestrial (1982)',\n",
       " '3349    Thelma & Louise (1991)',\n",
       " '3633    Mad Max (1979)',\n",
       " '2297    King Kong (1933)',\n",
       " '1366    Jaws (1975)',\n",
       " '1183    Good, The Bad and The Ugly, The (1966)',\n",
       " '2623    Run Lola Run (Lola rennt) (1998)',\n",
       " '2878    Goldfinger (1964)',\n",
       " '1220    Terminator, The (1984)']"
      ]
     },
     "execution_count": 22,
     "metadata": {},
     "output_type": "execute_result"
    }
   ],
   "source": [
    "get_user_history(4, implicit_ratings)"
   ]
  },
  {
   "cell_type": "code",
   "execution_count": 23,
   "metadata": {
    "scrolled": false
   },
   "outputs": [
    {
     "data": {
      "text/plain": [
       "['847    Godfather, The (1972)',\n",
       " '892    Rear Window (1954)',\n",
       " '900    Casablanca (1942)',\n",
       " '2836    Sanjuro (1962)',\n",
       " '1203    Godfather: Part II, The (1974)',\n",
       " '1950    Seven Samurai (The Magnificent Seven) (Shichin...',\n",
       " '1234    Treasure of the Sierra Madre, The (1948)',\n",
       " '3366    Double Indemnity (1944)',\n",
       " '1876    On the Waterfront (1954)',\n",
       " '1194    Third Man, The (1949)',\n",
       " \"1176    One Flew Over the Cuckoo's Nest (1975)\",\n",
       " '664    World of Apu, The (Apur Sansar) (1959)',\n",
       " '1189    To Kill a Mockingbird (1962)',\n",
       " '911    Citizen Kane (1941)',\n",
       " '1399    Hearts and Minds (1996)',\n",
       " '886    Philadelphia Story, The (1940)',\n",
       " '3560    Gold Rush, The (1925)',\n",
       " '2961    Yojimbo (1961)',\n",
       " '3026    Grapes of Wrath, The (1940)',\n",
       " '896    North by Northwest (1959)']"
      ]
     },
     "execution_count": 23,
     "metadata": {},
     "output_type": "execute_result"
    }
   ],
   "source": [
    "get_recommendations(4, svd)"
   ]
  },
  {
   "cell_type": "markdown",
   "metadata": {},
   "source": [
    "### Задание 2. Не использую готовые решения, реализовать матричное разложение используя ALS на implicit данных"
   ]
  },
  {
   "cell_type": "code",
   "execution_count": 24,
   "metadata": {},
   "outputs": [],
   "source": [
    "implicit_ratings['rating'].values[:] = 1"
   ]
  },
  {
   "cell_type": "code",
   "execution_count": 25,
   "metadata": {},
   "outputs": [],
   "source": [
    "class ALS:\n",
    "\n",
    "    def __init__(self, max_iter, n_components, lr, decay, eval_each):\n",
    "        self.max_iter = max_iter\n",
    "        self.n_components = n_components\n",
    "        self.lr = lr\n",
    "        self.decay = decay\n",
    "        self.eval_each = eval_each\n",
    "\n",
    "    def fit(self, ratings: pd.DataFrame):\n",
    "        emb2user = np.unique(ratings.user_id)\n",
    "        emb2movie = np.unique(ratings.movie_id)\n",
    "        user2emb = {user: emb for emb, user in enumerate(emb2user)}\n",
    "        movie2emb = {movie: emb for emb, movie in enumerate(emb2movie)}\n",
    "\n",
    "        ratings_np = ratings.rating.to_numpy()\n",
    "        user_ids_np = ratings.user_id.map(user2emb.get).to_numpy()\n",
    "        movie_ids_np = ratings.movie_id.map(movie2emb.get).to_numpy()\n",
    "\n",
    "        W = np.random.uniform(0.0, 1.0 / np.sqrt(self.n_components), (len(emb2user), self.n_components))\n",
    "        H = np.random.uniform(0.0, 1.0 / np.sqrt(self.n_components), (self.n_components, len(emb2movie)))\n",
    "\n",
    "        for k in tqdm(range(1, self.max_iter + 1)):\n",
    "            predictions = W @ H\n",
    "            \n",
    "            error = predictions.copy()\n",
    "            error[user_ids_np, movie_ids_np] -= ratings_np\n",
    "            \n",
    "            if k % 2 == 0:\n",
    "                W -= self.lr * (error @ H.T + self.decay * W)\n",
    "            else:\n",
    "                H -= self.lr * (W.T @ error + self.decay * H)\n",
    "\n",
    "            if k % self.eval_each == 0:\n",
    "                rmse = np.linalg.norm(predictions[user_ids_np, movie_ids_np] - ratings_np) / np.sqrt(len(ratings))\n",
    "                print(f'Iter: {k:03}, RMSE: {rmse:.3f}')\n",
    "\n",
    "        self.W, self.H = W, H\n",
    "        self.movie2emb, self.emb2movie, self.user2emb = movie2emb, emb2movie, user2emb\n",
    "\n",
    "    def similar_items(self, movie_id, n=10):\n",
    "        j = self.movie2emb[movie_id]\n",
    "        distances = cosine_similarity(self.H[:, j].reshape(1, -1), self.H.T)\n",
    "        most_similar = distances[0].argsort()[-n:][::-1]\n",
    "        return [(self.emb2movie[emb],) for emb in most_similar]\n",
    "\n",
    "    def recommend(self, user_id, _, n=20):\n",
    "        i = self.user2emb[user_id]\n",
    "        ratings = self.W[i] @ self.H\n",
    "        recommended_embs = ratings.argsort()\n",
    "        return [(self.emb2movie[emb],) for emb in recommended_embs \n",
    "                if self.emb2movie[emb] not in \n",
    "                implicit_ratings[implicit_ratings.user_id == user_id].movie_id.to_numpy()][-n:][::-1]"
   ]
  },
  {
   "cell_type": "code",
   "execution_count": 26,
   "metadata": {},
   "outputs": [
    {
     "data": {
      "application/vnd.jupyter.widget-view+json": {
       "model_id": "b9537e76d081448ba0a39fb382fb1858",
       "version_major": 2,
       "version_minor": 0
      },
      "text/plain": [
       "HBox(children=(HTML(value=''), FloatProgress(value=0.0, max=260.0), HTML(value='')))"
      ]
     },
     "metadata": {},
     "output_type": "display_data"
    },
    {
     "name": "stdout",
     "output_type": "stream",
     "text": [
      "Iter: 010, RMSE: 0.868\n",
      "Iter: 020, RMSE: 0.840\n",
      "Iter: 030, RMSE: 0.829\n",
      "Iter: 040, RMSE: 0.823\n",
      "Iter: 050, RMSE: 0.817\n",
      "Iter: 060, RMSE: 0.804\n",
      "Iter: 070, RMSE: 0.788\n",
      "Iter: 080, RMSE: 0.771\n",
      "Iter: 090, RMSE: 0.756\n",
      "Iter: 100, RMSE: 0.743\n",
      "Iter: 110, RMSE: 0.732\n",
      "Iter: 120, RMSE: 0.721\n",
      "Iter: 130, RMSE: 0.711\n",
      "Iter: 140, RMSE: 0.701\n",
      "Iter: 150, RMSE: 0.691\n",
      "Iter: 160, RMSE: 0.680\n",
      "Iter: 170, RMSE: 0.670\n",
      "Iter: 180, RMSE: 0.659\n",
      "Iter: 190, RMSE: 0.648\n",
      "Iter: 200, RMSE: 0.637\n",
      "Iter: 210, RMSE: 0.627\n",
      "Iter: 220, RMSE: 0.616\n",
      "Iter: 230, RMSE: 0.605\n",
      "Iter: 240, RMSE: 0.595\n",
      "Iter: 250, RMSE: 0.585\n",
      "Iter: 260, RMSE: 0.575\n",
      "\n",
      "CPU times: user 14min 35s, sys: 7min 38s, total: 22min 13s\n",
      "Wall time: 3min 40s\n"
     ]
    }
   ],
   "source": [
    "%%time\n",
    "\n",
    "als = ALS(max_iter=260, n_components=300, lr=1e-3, decay=1e-3, eval_each=10)\n",
    "\n",
    "als.fit(implicit_ratings)"
   ]
  },
  {
   "cell_type": "code",
   "execution_count": 27,
   "metadata": {},
   "outputs": [
    {
     "data": {
      "text/html": [
       "<div>\n",
       "<style scoped>\n",
       "    .dataframe tbody tr th:only-of-type {\n",
       "        vertical-align: middle;\n",
       "    }\n",
       "\n",
       "    .dataframe tbody tr th {\n",
       "        vertical-align: top;\n",
       "    }\n",
       "\n",
       "    .dataframe thead th {\n",
       "        text-align: right;\n",
       "    }\n",
       "</style>\n",
       "<table border=\"1\" class=\"dataframe\">\n",
       "  <thead>\n",
       "    <tr style=\"text-align: right;\">\n",
       "      <th></th>\n",
       "      <th>movie_id</th>\n",
       "      <th>name</th>\n",
       "      <th>category</th>\n",
       "    </tr>\n",
       "  </thead>\n",
       "  <tbody>\n",
       "    <tr>\n",
       "      <th>0</th>\n",
       "      <td>1</td>\n",
       "      <td>Toy Story (1995)</td>\n",
       "      <td>Animation|Children's|Comedy</td>\n",
       "    </tr>\n",
       "  </tbody>\n",
       "</table>\n",
       "</div>"
      ],
      "text/plain": [
       "   movie_id              name                     category\n",
       "0         1  Toy Story (1995)  Animation|Children's|Comedy"
      ]
     },
     "execution_count": 27,
     "metadata": {},
     "output_type": "execute_result"
    }
   ],
   "source": [
    "movie_info[movie_info.movie_id == 1]"
   ]
  },
  {
   "cell_type": "code",
   "execution_count": 28,
   "metadata": {
    "scrolled": true
   },
   "outputs": [
    {
     "data": {
      "text/plain": [
       "['0    Toy Story (1995)',\n",
       " '3045    Toy Story 2 (1999)',\n",
       " '584    Aladdin (1992)',\n",
       " \"2286    Bug's Life, A (1998)\",\n",
       " '591    Beauty and the Beast (1991)',\n",
       " '2225    Antz (1998)',\n",
       " '1526    Hercules (1997)',\n",
       " '360    Lion King, The (1994)',\n",
       " '1838    Mulan (1998)',\n",
       " '2618    Tarzan (1999)']"
      ]
     },
     "execution_count": 28,
     "metadata": {},
     "output_type": "execute_result"
    }
   ],
   "source": [
    "get_similars(1, als)"
   ]
  },
  {
   "cell_type": "code",
   "execution_count": 29,
   "metadata": {
    "scrolled": true
   },
   "outputs": [
    {
     "data": {
      "text/plain": [
       "['3399    Hustler, The (1961)',\n",
       " '2882    Fistful of Dollars, A (1964)',\n",
       " '1196    Alien (1979)',\n",
       " '1023    Die Hard (1988)',\n",
       " '257    Star Wars: Episode IV - A New Hope (1977)',\n",
       " '1959    Saving Private Ryan (1998)',\n",
       " '476    Jurassic Park (1993)',\n",
       " '1180    Raiders of the Lost Ark (1981)',\n",
       " '1885    Rocky (1976)',\n",
       " '1081    E.T. the Extra-Terrestrial (1982)',\n",
       " '3349    Thelma & Louise (1991)',\n",
       " '3633    Mad Max (1979)',\n",
       " '2297    King Kong (1933)',\n",
       " '1366    Jaws (1975)',\n",
       " '1183    Good, The Bad and The Ugly, The (1966)',\n",
       " '2623    Run Lola Run (Lola rennt) (1998)',\n",
       " '2878    Goldfinger (1964)',\n",
       " '1220    Terminator, The (1984)']"
      ]
     },
     "execution_count": 29,
     "metadata": {},
     "output_type": "execute_result"
    }
   ],
   "source": [
    "get_user_history(4, implicit_ratings)"
   ]
  },
  {
   "cell_type": "code",
   "execution_count": 30,
   "metadata": {
    "scrolled": true
   },
   "outputs": [
    {
     "data": {
      "text/plain": [
       "['1182    Aliens (1986)',\n",
       " '1178    Star Wars: Episode V - The Empire Strikes Back...',\n",
       " '1271    Indiana Jones and the Last Crusade (1989)',\n",
       " '585    Terminator 2: Judgment Day (1991)',\n",
       " '1284    Butch Cassidy and the Sundance Kid (1969)',\n",
       " '453    Fugitive, The (1993)',\n",
       " '1179    Princess Bride, The (1987)',\n",
       " '2880    Dr. No (1962)',\n",
       " '2879    From Russia with Love (1963)',\n",
       " '1884    French Connection, The (1971)',\n",
       " '537    Blade Runner (1982)',\n",
       " '1267    Ben-Hur (1959)',\n",
       " '3458    Predator (1987)',\n",
       " '3634    Mad Max 2 (a.k.a. The Road Warrior) (1981)',\n",
       " '847    Godfather, The (1972)',\n",
       " '2875    Dirty Dozen, The (1967)',\n",
       " '2571    Superman (1978)',\n",
       " '2460    Planet of the Apes (1968)',\n",
       " '1568    Hunt for Red October, The (1990)',\n",
       " '108    Braveheart (1995)']"
      ]
     },
     "execution_count": 30,
     "metadata": {},
     "output_type": "execute_result"
    }
   ],
   "source": [
    "get_recommendations(4, als)"
   ]
  },
  {
   "cell_type": "markdown",
   "metadata": {},
   "source": [
    "### Задание 3. Не использую готовые решения, реализовать матричное разложение BPR на implicit данных"
   ]
  },
  {
   "cell_type": "code",
   "execution_count": 31,
   "metadata": {},
   "outputs": [],
   "source": [
    "class BPR:\n",
    "\n",
    "    def __init__(self, max_iter, n_components, lr, decay, eval_each):\n",
    "        self.max_iter = max_iter\n",
    "        self.n_components = n_components\n",
    "        self.lr = lr\n",
    "        self.decay = decay\n",
    "        self.eval_each = eval_each\n",
    "\n",
    "    def fit(self, ratings: pd.DataFrame):\n",
    "        n_ratings = len(ratings)\n",
    "\n",
    "        emb2user = np.unique(ratings.user_id)\n",
    "        emb2movie = np.unique(ratings.movie_id)\n",
    "        user2emb = {user: emb for emb, user in enumerate(emb2user)}\n",
    "        movie2emb = {movie: emb for emb, movie in enumerate(emb2movie)}\n",
    "\n",
    "        user2seen = {user2emb[user_id]: set(ratings[ratings.user_id == user_id].movie_id) for user_id in emb2user}\n",
    "        user2unseen = [[movie2emb[movie_id] for movie_id in movie2emb if movie_id not in user2seen[emb]] for emb in range(len(emb2user))]\n",
    "        \n",
    "        perm = np.random.permutation(n_ratings)\n",
    "        ratings_np = ratings.rating.to_numpy()[perm]\n",
    "        user_ids_np = ratings.user_id.map(user2emb.get).to_numpy()[perm]\n",
    "        movie_ids_np = ratings.movie_id.map(movie2emb.get).to_numpy()[perm]\n",
    "\n",
    "        W = np.random.uniform(0.0, 1.0 / np.sqrt(self.n_components), (len(emb2user), self.n_components))\n",
    "        H = np.random.uniform(0.0, 1.0 / np.sqrt(self.n_components), (self.n_components, len(emb2movie)))\n",
    "\n",
    "        for k in tqdm(range(1, self.max_iter + 1)):\n",
    "            if k % n_ratings == 0:\n",
    "                perm = np.random.permutation(len(ratings))\n",
    "                user_ids_np = user_ids_np[perm]\n",
    "                movie_ids_np = movie_ids_np[perm]\n",
    "                ratings_np = ratings_np[perm]\n",
    "\n",
    "            u = user_ids_np[k % n_ratings]\n",
    "            i = movie_ids_np[k % n_ratings]\n",
    "            \n",
    "            for _ in range(4):\n",
    "                j = np.random.choice(user2unseen[u])\n",
    "\n",
    "                x_uij = W[u] @ H[:, i] - W[u] @ H[:, j]\n",
    "                sigmoid = 1 / (1 + np.exp(x_uij))\n",
    "\n",
    "                W[u] += self.lr * (sigmoid * (H[:, i] - H[:, j]) - self.decay * W[u])\n",
    "                H[:, i] += self.lr * (sigmoid * W[u] - self.decay * H[:, i])\n",
    "                H[:, j] += self.lr * (-sigmoid * W[u] - self.decay * H[:, j])\n",
    "            \n",
    "            if k % self.eval_each == 0:\n",
    "                rmse = np.linalg.norm((W @ H)[user_ids_np, movie_ids_np] - ratings_np) / np.sqrt(n_ratings)\n",
    "                print(f'Iter: {k:06}, RMSE: {rmse:.3f}')\n",
    "\n",
    "        self.W, self.H = W, H\n",
    "        self.movie2emb, self.emb2movie, self.user2emb = movie2emb, emb2movie, user2emb\n",
    "\n",
    "    def similar_items(self, movie_id, n=10):\n",
    "        j = self.movie2emb[movie_id]\n",
    "        distances = cosine_similarity(self.H[:, j].reshape(1, -1), self.H.T)\n",
    "        most_similar = distances[0].argsort()[-n:][::-1]\n",
    "        return [(self.emb2movie[emb],) for emb in most_similar]\n",
    "\n",
    "    def recommend(self, user_id, _, n=20):\n",
    "        i = self.user2emb[user_id]\n",
    "        ratings = self.W[i] @ self.H\n",
    "        recommended_embs = ratings.argsort()\n",
    "        return [(self.emb2movie[emb],) for emb in recommended_embs\n",
    "                if self.emb2movie[emb] not in\n",
    "                implicit_ratings[implicit_ratings.user_id == user_id].movie_id.to_numpy()][-n:][::-1]"
   ]
  },
  {
   "cell_type": "code",
   "execution_count": 32,
   "metadata": {
    "scrolled": false
   },
   "outputs": [
    {
     "data": {
      "application/vnd.jupyter.widget-view+json": {
       "model_id": "0659b9431c4c477a87f3c5716878a72c",
       "version_major": 2,
       "version_minor": 0
      },
      "text/plain": [
       "HBox(children=(HTML(value=''), FloatProgress(value=0.0, max=820000.0), HTML(value='')))"
      ]
     },
     "metadata": {},
     "output_type": "display_data"
    },
    {
     "name": "stdout",
     "output_type": "stream",
     "text": [
      "Iter: 050000, RMSE: 0.728\n",
      "Iter: 100000, RMSE: 0.707\n",
      "Iter: 150000, RMSE: 0.686\n",
      "Iter: 200000, RMSE: 0.666\n",
      "Iter: 250000, RMSE: 0.646\n",
      "Iter: 300000, RMSE: 0.627\n",
      "Iter: 350000, RMSE: 0.608\n",
      "Iter: 400000, RMSE: 0.590\n",
      "Iter: 450000, RMSE: 0.572\n",
      "Iter: 500000, RMSE: 0.556\n",
      "Iter: 550000, RMSE: 0.541\n",
      "Iter: 600000, RMSE: 0.528\n",
      "Iter: 650000, RMSE: 0.517\n",
      "Iter: 700000, RMSE: 0.508\n",
      "Iter: 750000, RMSE: 0.502\n",
      "Iter: 800000, RMSE: 0.498\n",
      "\n",
      "CPU times: user 16min 29s, sys: 35.9 s, total: 17min 5s\n",
      "Wall time: 15min 53s\n"
     ]
    }
   ],
   "source": [
    "%%time\n",
    "\n",
    "bpr = BPR(max_iter=820000, n_components=300, lr=1e-3, decay=5e-3, eval_each=50000)\n",
    "\n",
    "bpr.fit(implicit_ratings)"
   ]
  },
  {
   "cell_type": "code",
   "execution_count": 33,
   "metadata": {},
   "outputs": [
    {
     "data": {
      "text/html": [
       "<div>\n",
       "<style scoped>\n",
       "    .dataframe tbody tr th:only-of-type {\n",
       "        vertical-align: middle;\n",
       "    }\n",
       "\n",
       "    .dataframe tbody tr th {\n",
       "        vertical-align: top;\n",
       "    }\n",
       "\n",
       "    .dataframe thead th {\n",
       "        text-align: right;\n",
       "    }\n",
       "</style>\n",
       "<table border=\"1\" class=\"dataframe\">\n",
       "  <thead>\n",
       "    <tr style=\"text-align: right;\">\n",
       "      <th></th>\n",
       "      <th>movie_id</th>\n",
       "      <th>name</th>\n",
       "      <th>category</th>\n",
       "    </tr>\n",
       "  </thead>\n",
       "  <tbody>\n",
       "    <tr>\n",
       "      <th>0</th>\n",
       "      <td>1</td>\n",
       "      <td>Toy Story (1995)</td>\n",
       "      <td>Animation|Children's|Comedy</td>\n",
       "    </tr>\n",
       "  </tbody>\n",
       "</table>\n",
       "</div>"
      ],
      "text/plain": [
       "   movie_id              name                     category\n",
       "0         1  Toy Story (1995)  Animation|Children's|Comedy"
      ]
     },
     "execution_count": 33,
     "metadata": {},
     "output_type": "execute_result"
    }
   ],
   "source": [
    "movie_info[movie_info.movie_id == 1]"
   ]
  },
  {
   "cell_type": "code",
   "execution_count": 34,
   "metadata": {},
   "outputs": [
    {
     "data": {
      "text/plain": [
       "['0    Toy Story (1995)',\n",
       " '1959    Saving Private Ryan (1998)',\n",
       " '589    Silence of the Lambs, The (1991)',\n",
       " '2502    Matrix, The (1999)',\n",
       " '1178    Star Wars: Episode V - The Empire Strikes Back...',\n",
       " '2789    American Beauty (1999)',\n",
       " '257    Star Wars: Episode IV - A New Hope (1977)',\n",
       " '847    Godfather, The (1972)',\n",
       " '604    Fargo (1996)',\n",
       " '1180    Raiders of the Lost Ark (1981)']"
      ]
     },
     "execution_count": 34,
     "metadata": {},
     "output_type": "execute_result"
    }
   ],
   "source": [
    "get_similars(1, bpr)"
   ]
  },
  {
   "cell_type": "code",
   "execution_count": 35,
   "metadata": {},
   "outputs": [
    {
     "data": {
      "text/plain": [
       "['3399    Hustler, The (1961)',\n",
       " '2882    Fistful of Dollars, A (1964)',\n",
       " '1196    Alien (1979)',\n",
       " '1023    Die Hard (1988)',\n",
       " '257    Star Wars: Episode IV - A New Hope (1977)',\n",
       " '1959    Saving Private Ryan (1998)',\n",
       " '476    Jurassic Park (1993)',\n",
       " '1180    Raiders of the Lost Ark (1981)',\n",
       " '1885    Rocky (1976)',\n",
       " '1081    E.T. the Extra-Terrestrial (1982)',\n",
       " '3349    Thelma & Louise (1991)',\n",
       " '3633    Mad Max (1979)',\n",
       " '2297    King Kong (1933)',\n",
       " '1366    Jaws (1975)',\n",
       " '1183    Good, The Bad and The Ugly, The (1966)',\n",
       " '2623    Run Lola Run (Lola rennt) (1998)',\n",
       " '2878    Goldfinger (1964)',\n",
       " '1220    Terminator, The (1984)']"
      ]
     },
     "execution_count": 35,
     "metadata": {},
     "output_type": "execute_result"
    }
   ],
   "source": [
    "get_user_history(4, implicit_ratings)"
   ]
  },
  {
   "cell_type": "code",
   "execution_count": 36,
   "metadata": {},
   "outputs": [
    {
     "data": {
      "text/plain": [
       "['2789    American Beauty (1999)',\n",
       " '1178    Star Wars: Episode V - The Empire Strikes Back...',\n",
       " '589    Silence of the Lambs, The (1991)',\n",
       " '2502    Matrix, The (1999)',\n",
       " '2693    Sixth Sense, The (1999)',\n",
       " '1192    Star Wars: Episode VI - Return of the Jedi (1983)',\n",
       " '604    Fargo (1996)',\n",
       " '585    Terminator 2: Judgment Day (1991)',\n",
       " \"523    Schindler's List (1993)\",\n",
       " '315    Shawshank Redemption, The (1994)',\n",
       " '847    Godfather, The (1972)',\n",
       " '108    Braveheart (1995)',\n",
       " '1179    Princess Bride, The (1987)',\n",
       " '1250    Back to the Future (1985)',\n",
       " '1575    L.A. Confidential (1997)',\n",
       " '2327    Shakespeare in Love (1998)',\n",
       " '293    Pulp Fiction (1994)',\n",
       " '2928    Being John Malkovich (1999)',\n",
       " '1245    Groundhog Day (1993)',\n",
       " '0    Toy Story (1995)']"
      ]
     },
     "execution_count": 36,
     "metadata": {},
     "output_type": "execute_result"
    }
   ],
   "source": [
    "get_recommendations(4, bpr)"
   ]
  },
  {
   "cell_type": "markdown",
   "metadata": {},
   "source": [
    "### Задание 4. Не использую готовые решения, реализовать матричное разложение WARP на implicit данных"
   ]
  },
  {
   "cell_type": "code",
   "execution_count": 37,
   "metadata": {},
   "outputs": [],
   "source": [
    "class WARP:\n",
    "\n",
    "    def __init__(self, max_iter, n_components, lr, decay, eval_each):\n",
    "        self.max_iter = max_iter\n",
    "        self.n_components = n_components\n",
    "        self.lr = lr\n",
    "        self.decay = decay\n",
    "        self.eval_each = eval_each\n",
    "\n",
    "    def fit(self, ratings: pd.DataFrame):\n",
    "        n_ratings = len(ratings)\n",
    "\n",
    "        emb2user = np.unique(ratings.user_id)\n",
    "        emb2movie = np.unique(ratings.movie_id)\n",
    "        user2emb = {user: emb for emb, user in enumerate(emb2user)}\n",
    "        movie2emb = {movie: emb for emb, movie in enumerate(emb2movie)}\n",
    "\n",
    "        user2seen = {user2emb[user_id]: set(ratings[ratings.user_id == user_id].movie_id) for user_id in emb2user}\n",
    "        user2unseen = [[movie2emb[movie_id] for movie_id in movie2emb if movie_id not in user2seen[emb]] for emb in range(len(emb2user))]\n",
    "\n",
    "        perm = np.random.permutation(n_ratings)\n",
    "        ratings_np = ratings.rating.to_numpy()[perm]\n",
    "        user_ids_np = ratings.user_id.map(user2emb.get).to_numpy()[perm]\n",
    "        movie_ids_np = ratings.movie_id.map(movie2emb.get).to_numpy()[perm]\n",
    "\n",
    "        W = np.random.uniform(0.0, 1.0 / np.sqrt(self.n_components), (len(emb2user), self.n_components))\n",
    "        H = np.random.uniform(0.0, 1.0 / np.sqrt(self.n_components), (self.n_components, len(emb2movie)))\n",
    "\n",
    "        for k in tqdm(range(1, self.max_iter + 1)):\n",
    "            if k % n_ratings == 0:\n",
    "                perm = np.random.permutation(len(ratings))\n",
    "                user_ids_np = user_ids_np[perm]\n",
    "                movie_ids_np = movie_ids_np[perm]\n",
    "                ratings_np = ratings_np[perm]\n",
    "\n",
    "            u = user_ids_np[k % n_ratings]\n",
    "            i = movie_ids_np[k % n_ratings]\n",
    "\n",
    "            score_i = W[u] @ H[:, i]\n",
    "            for q, j in enumerate(np.random.permutation(user2unseen[u]), 1):\n",
    "                score_j = W[u] @ H[:, j]\n",
    "                if score_i < score_j + 1:\n",
    "                    modulator = np.log(len(user2seen[u]) / q)\n",
    "                    W[u] -= self.lr * (modulator * (H[:, j] - H[:, i]) + self.decay * W[u])\n",
    "                    H[:, i] -= self.lr * (-modulator * W[u] + self.decay * H[:, i])\n",
    "                    H[:, j] -= self.lr * (modulator * W[u] + self.decay * H[:, j])\n",
    "                    break\n",
    "                    \n",
    "            if k % self.eval_each == 0:\n",
    "                rmse = np.linalg.norm((W @ H)[user_ids_np, movie_ids_np] - ratings_np) / np.sqrt(n_ratings)\n",
    "                print(f'Iter: {k:06}, RMSE: {rmse:.3f}')\n",
    "\n",
    "        self.W, self.H = W, H\n",
    "        self.movie2emb, self.emb2movie, self.user2emb = movie2emb, emb2movie, user2emb\n",
    "\n",
    "    def similar_items(self, movie_id, n=10):\n",
    "        j = self.movie2emb[movie_id]\n",
    "        distances = cosine_similarity(self.H[:, j].reshape(1, -1), self.H.T)\n",
    "        most_similar = distances[0].argsort()[-n:][::-1]\n",
    "        return [(self.emb2movie[emb],) for emb in most_similar]\n",
    "\n",
    "    def recommend(self, user_id, _, n=20):\n",
    "        i = self.user2emb[user_id]\n",
    "        ratings = self.W[i] @ self.H\n",
    "        recommended_embs = ratings.argsort()\n",
    "        return [(self.emb2movie[emb],) for emb in recommended_embs\n",
    "                if self.emb2movie[emb] not in\n",
    "                implicit_ratings[implicit_ratings.user_id == user_id].movie_id.to_numpy()][-n:][ ::-1]"
   ]
  },
  {
   "cell_type": "code",
   "execution_count": 38,
   "metadata": {},
   "outputs": [
    {
     "data": {
      "application/vnd.jupyter.widget-view+json": {
       "model_id": "88d510b9d67e457c879eaa0765f0bf32",
       "version_major": 2,
       "version_minor": 0
      },
      "text/plain": [
       "HBox(children=(HTML(value=''), FloatProgress(value=0.0, max=250000.0), HTML(value='')))"
      ]
     },
     "metadata": {},
     "output_type": "display_data"
    },
    {
     "name": "stdout",
     "output_type": "stream",
     "text": [
      "Iter: 050000, RMSE: 0.694\n",
      "Iter: 100000, RMSE: 0.637\n",
      "Iter: 150000, RMSE: 0.580\n",
      "Iter: 200000, RMSE: 0.533\n",
      "Iter: 250000, RMSE: 0.512\n",
      "\n",
      "CPU times: user 2min 58s, sys: 10.3 s, total: 3min 8s\n",
      "Wall time: 2min 41s\n"
     ]
    }
   ],
   "source": [
    "%%time\n",
    "\n",
    "warp = WARP(max_iter=250000, n_components=300, lr=1e-3, decay=5e-3, eval_each=50000)\n",
    "\n",
    "warp.fit(implicit_ratings)"
   ]
  },
  {
   "cell_type": "code",
   "execution_count": 39,
   "metadata": {},
   "outputs": [
    {
     "data": {
      "text/html": [
       "<div>\n",
       "<style scoped>\n",
       "    .dataframe tbody tr th:only-of-type {\n",
       "        vertical-align: middle;\n",
       "    }\n",
       "\n",
       "    .dataframe tbody tr th {\n",
       "        vertical-align: top;\n",
       "    }\n",
       "\n",
       "    .dataframe thead th {\n",
       "        text-align: right;\n",
       "    }\n",
       "</style>\n",
       "<table border=\"1\" class=\"dataframe\">\n",
       "  <thead>\n",
       "    <tr style=\"text-align: right;\">\n",
       "      <th></th>\n",
       "      <th>movie_id</th>\n",
       "      <th>name</th>\n",
       "      <th>category</th>\n",
       "    </tr>\n",
       "  </thead>\n",
       "  <tbody>\n",
       "    <tr>\n",
       "      <th>0</th>\n",
       "      <td>1</td>\n",
       "      <td>Toy Story (1995)</td>\n",
       "      <td>Animation|Children's|Comedy</td>\n",
       "    </tr>\n",
       "  </tbody>\n",
       "</table>\n",
       "</div>"
      ],
      "text/plain": [
       "   movie_id              name                     category\n",
       "0         1  Toy Story (1995)  Animation|Children's|Comedy"
      ]
     },
     "execution_count": 39,
     "metadata": {},
     "output_type": "execute_result"
    }
   ],
   "source": [
    "movie_info[movie_info.movie_id == 1]"
   ]
  },
  {
   "cell_type": "code",
   "execution_count": 40,
   "metadata": {},
   "outputs": [
    {
     "data": {
      "text/plain": [
       "['0    Toy Story (1995)',\n",
       " '257    Star Wars: Episode IV - A New Hope (1977)',\n",
       " '2789    American Beauty (1999)',\n",
       " \"523    Schindler's List (1993)\",\n",
       " '1178    Star Wars: Episode V - The Empire Strikes Back...',\n",
       " '2693    Sixth Sense, The (1999)',\n",
       " '585    Terminator 2: Judgment Day (1991)',\n",
       " '1192    Star Wars: Episode VI - Return of the Jedi (1983)',\n",
       " '1180    Raiders of the Lost Ark (1981)',\n",
       " '604    Fargo (1996)']"
      ]
     },
     "execution_count": 40,
     "metadata": {},
     "output_type": "execute_result"
    }
   ],
   "source": [
    "get_similars(1, warp)"
   ]
  },
  {
   "cell_type": "code",
   "execution_count": 41,
   "metadata": {},
   "outputs": [
    {
     "data": {
      "text/plain": [
       "['3399    Hustler, The (1961)',\n",
       " '2882    Fistful of Dollars, A (1964)',\n",
       " '1196    Alien (1979)',\n",
       " '1023    Die Hard (1988)',\n",
       " '257    Star Wars: Episode IV - A New Hope (1977)',\n",
       " '1959    Saving Private Ryan (1998)',\n",
       " '476    Jurassic Park (1993)',\n",
       " '1180    Raiders of the Lost Ark (1981)',\n",
       " '1885    Rocky (1976)',\n",
       " '1081    E.T. the Extra-Terrestrial (1982)',\n",
       " '3349    Thelma & Louise (1991)',\n",
       " '3633    Mad Max (1979)',\n",
       " '2297    King Kong (1933)',\n",
       " '1366    Jaws (1975)',\n",
       " '1183    Good, The Bad and The Ugly, The (1966)',\n",
       " '2623    Run Lola Run (Lola rennt) (1998)',\n",
       " '2878    Goldfinger (1964)',\n",
       " '1220    Terminator, The (1984)']"
      ]
     },
     "execution_count": 41,
     "metadata": {},
     "output_type": "execute_result"
    }
   ],
   "source": [
    "get_user_history(4, implicit_ratings)"
   ]
  },
  {
   "cell_type": "code",
   "execution_count": 42,
   "metadata": {},
   "outputs": [
    {
     "data": {
      "text/plain": [
       "['2789    American Beauty (1999)',\n",
       " '1178    Star Wars: Episode V - The Empire Strikes Back...',\n",
       " '589    Silence of the Lambs, The (1991)',\n",
       " '2502    Matrix, The (1999)',\n",
       " '604    Fargo (1996)',\n",
       " '2693    Sixth Sense, The (1999)',\n",
       " '585    Terminator 2: Judgment Day (1991)',\n",
       " '315    Shawshank Redemption, The (1994)',\n",
       " \"523    Schindler's List (1993)\",\n",
       " '1192    Star Wars: Episode VI - Return of the Jedi (1983)',\n",
       " '847    Godfather, The (1972)',\n",
       " '108    Braveheart (1995)',\n",
       " '1179    Princess Bride, The (1987)',\n",
       " '293    Pulp Fiction (1994)',\n",
       " '1250    Back to the Future (1985)',\n",
       " '1575    L.A. Confidential (1997)',\n",
       " '2327    Shakespeare in Love (1998)',\n",
       " '453    Fugitive, The (1993)',\n",
       " '352    Forrest Gump (1994)',\n",
       " '0    Toy Story (1995)']"
      ]
     },
     "execution_count": 42,
     "metadata": {},
     "output_type": "execute_result"
    }
   ],
   "source": [
    "get_recommendations(4, warp)"
   ]
  }
 ],
 "metadata": {
  "kernelspec": {
   "display_name": "Python 3",
   "language": "python",
   "name": "python3"
  },
  "language_info": {
   "codemirror_mode": {
    "name": "ipython",
    "version": 3
   },
   "file_extension": ".py",
   "mimetype": "text/x-python",
   "name": "python",
   "nbconvert_exporter": "python",
   "pygments_lexer": "ipython3",
   "version": "3.8.3"
  }
 },
 "nbformat": 4,
 "nbformat_minor": 4
}
